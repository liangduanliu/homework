{
 "cells": [
  {
   "cell_type": "markdown",
   "metadata": {},
   "source": [
    "# Homework 2\n",
    "Liangduan Liu  Jan 30 @UNLV"
   ]
  },
  {
   "cell_type": "markdown",
   "metadata": {},
   "source": [
    "When $b^{2} \\gg 4ac$ then $b$ is very close to $\\sqrt{b^{2} - 4ac}$, so $x_{1}= \\frac{-b+\\sqrt{b^{2} - 4ac}}{2a}$ and $x{'}_{2}= \\frac{-2c}{b-\\sqrt{b^{2} - 4ac}}$ are very close to zero. The subtractive cancelation will increase in error."
   ]
  },
  {
   "cell_type": "markdown",
   "metadata": {},
   "source": [
    "### a) write a program that calculate all four solutions for arbitrary values of $a,b$ and $c$."
   ]
  },
  {
   "cell_type": "code",
   "execution_count": 1,
   "metadata": {
    "collapsed": true
   },
   "outputs": [],
   "source": [
    "def sol(a,b,c):\n",
    "    x1 =(-b+np.sqrt(b**2.0-4.0*a*c))/(2.0*a)\n",
    "    x2 =(-b-np.sqrt(b**2.0-4.0*a*c))/(2.0*a)\n",
    "    xp1 =(-2.0*c)/(b+np.sqrt(b**2.0-4.0*a*c))\n",
    "    xp2 =(-2.0*c)/(b-np.sqrt(b**2.0-4.0*a*c))\n",
    "    return (x1,x2,xp1,xp2)\n",
    "    "
   ]
  },
  {
   "cell_type": "markdown",
   "metadata": {},
   "source": [
    "### b) Invesigate how errors in your computered answers become large as the subtractive cancelation increase and relate this to the known machine precision."
   ]
  },
  {
   "cell_type": "code",
   "execution_count": 3,
   "metadata": {},
   "outputs": [
    {
     "name": "stdout",
     "output_type": "stream",
     "text": [
      "(-0.1127016653792583, -0.8872983346207417, -0.11270166537925831, -0.88729833462074181)\n",
      "(-0.010102051443364402, -0.9898979485566356, -0.010102051443364381, -0.9898979485566336)\n",
      "(-0.0010010020050140178, -0.99899899799498604, -0.0010010020050140421, -0.99899899799501024)\n",
      "(-0.00010001000200049459, -0.99989998999799945, -0.00010001000200050015, -0.99989998999805507)\n",
      "(-1.0000100002016676e-05, -0.99998999989999793, -1.0000100002000051e-05, -0.99998999989833548)\n",
      "(-1.0000010000066339e-06, -0.99999899999899999, -1.000001000002e-06, -0.99999899999436603)\n",
      "(-1.0000000999488279e-07, -0.99999989999998995, -1.00000010000002e-07, -0.99999990005118211)\n",
      "(-1.0000000105758744e-08, -0.99999998999999984, -1.0000000100000004e-08, -0.99999998942412571)\n",
      "(-1.0000000272292198e-09, -0.99999999899999992, -1.0000000010000002e-09, -0.99999997277078101)\n",
      "(-1.000000082740371e-10, -0.99999999989999999, -1.0000000001000001e-10, -0.99999991725963588)\n",
      "(-1.000000082740371e-11, -0.99999999999, -1.0000000000099999e-11, -0.99999991725963577)\n",
      "(-1.0000333894311098e-12, -0.99999999999899991, -1.000000000001e-12, -0.99996661168370715)\n",
      "(-1.000310945187266e-13, -0.99999999999989997, -1.0000000000001001e-13, -0.99968915146958848)\n",
      "(-9.9920072216264089e-15, -0.99999999999999001, -1.0000000000000099e-14, -1.0007999171934436)\n",
      "(-9.9920072216264089e-16, -0.999999999999999, -1.0000000000000011e-15, -1.0007999171934436)\n",
      "(-1.1102230246251565e-16, -0.99999999999999989, -1.0000000000000001e-16, -0.90071992547409918)\n",
      "(0.0, -1.0, -1.0000000000000001e-17, -inf)\n",
      "(0.0, -1.0, -1.0000000000000001e-18, -inf)\n",
      "(0.0, -1.0, -9.9999999999999998e-20, -inf)\n"
     ]
    },
    {
     "name": "stderr",
     "output_type": "stream",
     "text": [
      "/Users/liangduanliu/anaconda3/lib/python3.6/site-packages/ipykernel_launcher.py:5: RuntimeWarning: divide by zero encountered in double_scalars\n",
      "  \"\"\"\n"
     ]
    }
   ],
   "source": [
    "import numpy as np\n",
    "a = 1.0\n",
    "b = 1.0\n",
    "for i in range (1,20):\n",
    "    c = 10**(-i)\n",
    "    print(sol(a,b,c))"
   ]
  },
  {
   "cell_type": "code",
   "execution_count": null,
   "metadata": {
    "collapsed": true
   },
   "outputs": [],
   "source": []
  }
 ],
 "metadata": {
  "kernelspec": {
   "display_name": "Python 3",
   "language": "python",
   "name": "python3"
  },
  "language_info": {
   "codemirror_mode": {
    "name": "ipython",
    "version": 3
   },
   "file_extension": ".py",
   "mimetype": "text/x-python",
   "name": "python",
   "nbconvert_exporter": "python",
   "pygments_lexer": "ipython3",
   "version": "3.6.3"
  }
 },
 "nbformat": 4,
 "nbformat_minor": 2
}
