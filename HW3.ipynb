{
 "cells": [
  {
   "cell_type": "markdown",
   "metadata": {},
   "source": [
    "# Homework 3\n",
    "liangduan liu,  Jan 31 2018   @UNLV"
   ]
  },
  {
   "cell_type": "markdown",
   "metadata": {},
   "source": [
    "##  Write a program to numerically evaluate the derivative of $f(x)= \\cos (x)$ at an arbitrary position $x$"
   ]
  },
  {
   "cell_type": "markdown",
   "metadata": {},
   "source": [
    "### 1. Evaluate the derivative at position $x$ using the forward difference scheme. Plot $\\log_{10}(\\rm{Error})= \\log_{10} |f'(\\rm{numerically})- f'(analytic)|$ against $\\log_{10}(dx)$ for $dx = 10^{-16}, 10^{-15}, \\cdots, 0.1$ at $x=\\pi/4$. You should find $\\text{Error} \\sim dx^{n}$, what is $n$ ? what is the optimal value for $dx$"
   ]
  },
  {
   "cell_type": "code",
   "execution_count": 16,
   "metadata": {},
   "outputs": [
    {
     "name": "stdout",
     "output_type": "stream",
     "text": [
      "dx 1e-16,  y -1.11022\n",
      "dx 1e-15,  y -0.666134\n",
      "dx 1e-14,  y -0.699441\n",
      "dx 1e-13,  y -0.707212\n",
      "dx 1e-12,  y -0.707101\n",
      "dx 1e-11,  y -0.707101\n",
      "dx 1e-10,  y -0.707107\n",
      "dx 1e-09,  y -0.707107\n",
      "dx 1e-08,  y -0.707107\n",
      "dx 1e-07,  y -0.707107\n",
      "dx 1e-06,  y -0.707107\n",
      "dx 1e-05,  y -0.70711\n",
      "dx 0.0001,  y -0.707142\n",
      "dx 0.001,  y -0.70746\n",
      "dx 0.01,  y -0.710631\n",
      "dx 0.1,  y -0.741255\n"
     ]
    },
    {
     "data": {
      "image/png": "[encoded data removed]",
      "text/plain": [
       "<matplotlib.figure.Figure at 0x10eb572e8>"
      ]
     },
     "metadata": {},
     "output_type": "display_data"
    }
   ],
   "source": [
    "import numpy as np\n",
    "import matplotlib.pyplot as plt\n",
    "\n",
    "def derifw(y,x,dx):\n",
    "    return (y(x+dx)-y(x))/dx\n",
    "\n",
    "x=np.pi/4\n",
    "dxarr=[]\n",
    "yarr=[]\n",
    "for dx in 10**np.arange(-16., 0., 1):\n",
    "    y=derifw(np.cos,x,dx)\n",
    "    print('dx %g,  y %g'%(dx,y))\n",
    "    dxarr.append(dx)\n",
    "    yarr.append(y)\n",
    "    \n",
    "\n",
    "\n",
    "plt.plot(dxarr, abs(yarr-(-np.sin(np.pi/4))), 'b-', lw=2, label =' forward difference error')     \n",
    "plt.xscale('log')\n",
    "plt.yscale('log')\n",
    "plt.xlabel('dx')\n",
    "plt.ylabel('Error')\n",
    "plt.legend()\n",
    "plt.show()"
   ]
  },
  {
   "cell_type": "markdown",
   "metadata": {},
   "source": [
    "As shown in above figure, $n=8$ is is the optimal value."
   ]
  },
  {
   "cell_type": "markdown",
   "metadata": {},
   "source": [
    "\n",
    "### 2. Repeat the exercise fusing the central difference scheme. Why this sheme is better?"
   ]
  },
  {
   "cell_type": "code",
   "execution_count": 15,
   "metadata": {},
   "outputs": [
    {
     "name": "stdout",
     "output_type": "stream",
     "text": [
      "dx 1e-16,  y 0\n",
      "dx 1e-15,  y -0.666134\n",
      "dx 1e-14,  y -0.699441\n",
      "dx 1e-13,  y -0.706102\n",
      "dx 1e-12,  y -0.707212\n",
      "dx 1e-11,  y -0.707101\n",
      "dx 1e-10,  y -0.707108\n",
      "dx 1e-09,  y -0.707107\n",
      "dx 1e-08,  y -0.707107\n",
      "dx 1e-07,  y -0.707107\n",
      "dx 1e-06,  y -0.707107\n",
      "dx 1e-05,  y -0.707107\n",
      "dx 0.0001,  y -0.707107\n",
      "dx 0.001,  y -0.707107\n",
      "dx 0.01,  y -0.707104\n",
      "dx 0.1,  y -0.706812\n"
     ]
    },
    {
     "data": {
      "image/png": "[encoded data removed]",
      "text/plain": [
       "<matplotlib.figure.Figure at 0x112770278>"
      ]
     },
     "metadata": {},
     "output_type": "display_data"
    }
   ],
   "source": [
    "import numpy as np\n",
    "import matplotlib.pyplot as plt\n",
    "\n",
    "def dericd(y,x,dx):\n",
    "    return (y(x+dx/2.)-y(x-dx/2.0))/dx\n",
    "\n",
    "x=np.pi/4\n",
    "dxarr=[]\n",
    "yarr=[]\n",
    "for dx in 10**np.arange(-16., 0., 1):\n",
    "    y=dericd(np.cos,x,dx)\n",
    "    print('dx %g,  y %g'%(dx,y))\n",
    "    dxarr.append(dx)\n",
    "    yarr.append(y)\n",
    "    \n",
    "\n",
    "\n",
    "plt.plot(dxarr, abs(yarr-(-np.sin(np.pi/4))), 'b-', lw=2, label =' central difference error')     \n",
    "plt.xscale('log')\n",
    "plt.yscale('log')\n",
    "plt.xlabel('dx')\n",
    "plt.ylabel('Error')\n",
    "plt.legend()\n",
    "plt.show()"
   ]
  },
  {
   "cell_type": "markdown",
   "metadata": {},
   "source": [
    "Central difference scheme is better than forward difference scheme. **Because Central difference scheme gets a more accurate result with a bigger interval.**"
   ]
  },
  {
   "cell_type": "markdown",
   "metadata": {},
   "source": [
    "### 3. Repeat (2) for $x=0$,  why do the results differ?"
   ]
  },
  {
   "cell_type": "code",
   "execution_count": 17,
   "metadata": {},
   "outputs": [
    {
     "name": "stdout",
     "output_type": "stream",
     "text": [
      "dx 1e-16,  y 0\n",
      "dx 1e-15,  y 0\n",
      "dx 1e-14,  y 0\n",
      "dx 1e-13,  y 0\n",
      "dx 1e-12,  y 0\n",
      "dx 1e-11,  y 0\n",
      "dx 1e-10,  y 0\n",
      "dx 1e-09,  y 0\n",
      "dx 1e-08,  y 0\n",
      "dx 1e-07,  y 0\n",
      "dx 1e-06,  y 0\n",
      "dx 1e-05,  y 0\n",
      "dx 0.0001,  y 0\n",
      "dx 0.001,  y 0\n",
      "dx 0.01,  y 0\n",
      "dx 0.1,  y 0\n"
     ]
    },
    {
     "name": "stderr",
     "output_type": "stream",
     "text": [
      "/Users/liangduanliu/anaconda3/lib/python3.6/site-packages/matplotlib/ticker.py:2210: UserWarning: Data has no positive values, and therefore cannot be log-scaled.\n",
      "  \"Data has no positive values, and therefore cannot be \"\n"
     ]
    },
    {
     "data": {
      "image/png": "[encoded data removed]",
      "text/plain": [
       "<matplotlib.figure.Figure at 0x1129f4dd8>"
      ]
     },
     "metadata": {},
     "output_type": "display_data"
    }
   ],
   "source": [
    "import numpy as np\n",
    "import matplotlib.pyplot as plt\n",
    "\n",
    "def dericd(y,x,dx):\n",
    "    return (y(x+dx/2.)-y(x-dx/2.0))/dx\n",
    "\n",
    "x=0.0\n",
    "dxarr=[]\n",
    "yarr=[]\n",
    "for dx in 10**np.arange(-16., 0., 1):\n",
    "    y=dericd(np.cos,x,dx)\n",
    "    print('dx %g,  y %g'%(dx,y))\n",
    "    dxarr.append(dx)\n",
    "    yarr.append(y)\n",
    "    \n",
    "\n",
    "\n",
    "plt.plot(dxarr, abs(yarr-(-np.sin(0.0))), 'b-', lw=2, label =' central difference error')     \n",
    "plt.xscale('log')\n",
    "plt.yscale('log')\n",
    "plt.xlabel('dx')\n",
    "plt.ylabel('Error')\n",
    "plt.legend()\n",
    "plt.show()"
   ]
  },
  {
   "cell_type": "code",
   "execution_count": 14,
   "metadata": {},
   "outputs": [
    {
     "name": "stdout",
     "output_type": "stream",
     "text": [
      "dx 1e-16,  y 0\n",
      "dx 1e-15,  y 0\n",
      "dx 1e-14,  y 0\n",
      "dx 1e-13,  y 0\n",
      "dx 1e-12,  y 0\n",
      "dx 1e-11,  y 0\n",
      "dx 1e-10,  y 0\n",
      "dx 1e-09,  y 0\n",
      "dx 1e-08,  y 0\n",
      "dx 1e-07,  y -4.996e-08\n",
      "dx 1e-06,  y -5.00044e-07\n",
      "dx 1e-05,  y -5e-06\n",
      "dx 0.0001,  y -5e-05\n",
      "dx 0.001,  y -0.0005\n",
      "dx 0.01,  y -0.00499996\n",
      "dx 0.1,  y -0.0499583\n"
     ]
    },
    {
     "data": {
      "image/png": "[encoded data removed]",
      "text/plain": [
       "<matplotlib.figure.Figure at 0x112215390>"
      ]
     },
     "metadata": {},
     "output_type": "display_data"
    }
   ],
   "source": [
    "import numpy as np\n",
    "import matplotlib.pyplot as plt\n",
    "\n",
    "def derifw(y,x,dx):\n",
    "    return (y(x+dx)-y(x))/dx\n",
    "\n",
    "x=0.0\n",
    "dxarr=[]\n",
    "yarr=[]\n",
    "for dx in 10**np.arange(-16., 0., 1):\n",
    "    y=derifw(np.cos,x,dx)\n",
    "    print('dx %g,  y %g'%(dx,y))\n",
    "    dxarr.append(dx)\n",
    "    yarr.append(y)\n",
    "    \n",
    "\n",
    "\n",
    "plt.plot(dxarr, abs(yarr-(-np.sin(0.0))), 'b-', lw=2, label =' forward difference error')     \n",
    "plt.xscale('log')\n",
    "plt.yscale('log')\n",
    "plt.xlabel('dx')\n",
    "plt.ylabel('Error')\n",
    "plt.legend()\n",
    "plt.show()"
   ]
  },
  {
   "cell_type": "markdown",
   "metadata": {},
   "source": [
    "The total Error is\n",
    "$$E_{\\text{tot}}= E_{r}+E_{t}$$\n",
    "where $E_{r}$ is round-off error and $E_{t}$ is truncation error.\n",
    "\n",
    "For difference $[y(t+h)-y(t)]/h$  the round-off error is estimate by $E_{t}=y\\times\\epsilon_{\\text{machine}}/h$\n",
    "\n",
    "The truncation error for forward difference is $E_{t,\\text{fd}} = y''\\times h/2$.\n",
    "central difference is $E_{t,\\text{cd}} = y'''\\times h^2/24$.\n",
    "\n",
    "When $E_{r} \\sim E_{t}$ we can obtain the minimum total error.\n",
    "\n",
    "For $y = \\cos x$, we have  $y'= - \\sin x$, $y''= -\\cos x$ and $y'''= \\sin x$. \n",
    "\n",
    "At $x=0$, $y'''=0$, so we can not use central difference scheme to calculate this difference, but forward difference scheme works."
   ]
  },
  {
   "cell_type": "code",
   "execution_count": null,
   "metadata": {
    "collapsed": true
   },
   "outputs": [],
   "source": []
  }
 ],
 "metadata": {
  "kernelspec": {
   "display_name": "Python 3",
   "language": "python",
   "name": "python3"
  },
  "language_info": {
   "codemirror_mode": {
    "name": "ipython",
    "version": 3
   },
   "file_extension": ".py",
   "mimetype": "text/x-python",
   "name": "python",
   "nbconvert_exporter": "python",
   "pygments_lexer": "ipython3",
   "version": "3.6.3"
  }
 },
 "nbformat": 4,
 "nbformat_minor": 2
}
